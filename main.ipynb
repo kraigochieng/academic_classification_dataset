{
 "cells": [
  {
   "cell_type": "code",
   "execution_count": 63,
   "metadata": {},
   "outputs": [],
   "source": [
    "# %pip install -r requirements.txt"
   ]
  },
  {
   "cell_type": "code",
   "execution_count": 64,
   "metadata": {},
   "outputs": [],
   "source": [
    "import matplotlib.pyplot as plt\n",
    "import pandas as pd\n",
    "\n",
    "%matplotlib inline\n",
    "import seaborn as sns\n",
    "\n",
    "sns.set_style(\"whitegrid\")"
   ]
  },
  {
   "cell_type": "code",
   "execution_count": 65,
   "metadata": {},
   "outputs": [],
   "source": [
    "train_df = pd.read_csv(\"train.csv\")\n",
    "test_df = pd.read_csv(\"test.csv\")"
   ]
  },
  {
   "cell_type": "code",
   "execution_count": 66,
   "metadata": {},
   "outputs": [
    {
     "data": {
      "text/html": [
       "<div>\n",
       "<style scoped>\n",
       "    .dataframe tbody tr th:only-of-type {\n",
       "        vertical-align: middle;\n",
       "    }\n",
       "\n",
       "    .dataframe tbody tr th {\n",
       "        vertical-align: top;\n",
       "    }\n",
       "\n",
       "    .dataframe thead th {\n",
       "        text-align: right;\n",
       "    }\n",
       "</style>\n",
       "<table border=\"1\" class=\"dataframe\">\n",
       "  <thead>\n",
       "    <tr style=\"text-align: right;\">\n",
       "      <th></th>\n",
       "      <th>id</th>\n",
       "      <th>Marital status</th>\n",
       "      <th>Application mode</th>\n",
       "      <th>Application order</th>\n",
       "      <th>Course</th>\n",
       "      <th>Daytime/evening attendance</th>\n",
       "      <th>Previous qualification</th>\n",
       "      <th>Previous qualification (grade)</th>\n",
       "      <th>Nacionality</th>\n",
       "      <th>Mother's qualification</th>\n",
       "      <th>...</th>\n",
       "      <th>Curricular units 2nd sem (credited)</th>\n",
       "      <th>Curricular units 2nd sem (enrolled)</th>\n",
       "      <th>Curricular units 2nd sem (evaluations)</th>\n",
       "      <th>Curricular units 2nd sem (approved)</th>\n",
       "      <th>Curricular units 2nd sem (grade)</th>\n",
       "      <th>Curricular units 2nd sem (without evaluations)</th>\n",
       "      <th>Unemployment rate</th>\n",
       "      <th>Inflation rate</th>\n",
       "      <th>GDP</th>\n",
       "      <th>Target</th>\n",
       "    </tr>\n",
       "  </thead>\n",
       "  <tbody>\n",
       "    <tr>\n",
       "      <th>0</th>\n",
       "      <td>0</td>\n",
       "      <td>1</td>\n",
       "      <td>1</td>\n",
       "      <td>1</td>\n",
       "      <td>9238</td>\n",
       "      <td>1</td>\n",
       "      <td>1</td>\n",
       "      <td>126.0</td>\n",
       "      <td>1</td>\n",
       "      <td>1</td>\n",
       "      <td>...</td>\n",
       "      <td>0</td>\n",
       "      <td>6</td>\n",
       "      <td>7</td>\n",
       "      <td>6</td>\n",
       "      <td>12.428571</td>\n",
       "      <td>0</td>\n",
       "      <td>11.1</td>\n",
       "      <td>0.6</td>\n",
       "      <td>2.02</td>\n",
       "      <td>Graduate</td>\n",
       "    </tr>\n",
       "    <tr>\n",
       "      <th>1</th>\n",
       "      <td>1</td>\n",
       "      <td>1</td>\n",
       "      <td>17</td>\n",
       "      <td>1</td>\n",
       "      <td>9238</td>\n",
       "      <td>1</td>\n",
       "      <td>1</td>\n",
       "      <td>125.0</td>\n",
       "      <td>1</td>\n",
       "      <td>19</td>\n",
       "      <td>...</td>\n",
       "      <td>0</td>\n",
       "      <td>6</td>\n",
       "      <td>9</td>\n",
       "      <td>0</td>\n",
       "      <td>0.000000</td>\n",
       "      <td>0</td>\n",
       "      <td>11.1</td>\n",
       "      <td>0.6</td>\n",
       "      <td>2.02</td>\n",
       "      <td>Dropout</td>\n",
       "    </tr>\n",
       "    <tr>\n",
       "      <th>2</th>\n",
       "      <td>2</td>\n",
       "      <td>1</td>\n",
       "      <td>17</td>\n",
       "      <td>2</td>\n",
       "      <td>9254</td>\n",
       "      <td>1</td>\n",
       "      <td>1</td>\n",
       "      <td>137.0</td>\n",
       "      <td>1</td>\n",
       "      <td>3</td>\n",
       "      <td>...</td>\n",
       "      <td>0</td>\n",
       "      <td>6</td>\n",
       "      <td>0</td>\n",
       "      <td>0</td>\n",
       "      <td>0.000000</td>\n",
       "      <td>0</td>\n",
       "      <td>16.2</td>\n",
       "      <td>0.3</td>\n",
       "      <td>-0.92</td>\n",
       "      <td>Dropout</td>\n",
       "    </tr>\n",
       "    <tr>\n",
       "      <th>3</th>\n",
       "      <td>3</td>\n",
       "      <td>1</td>\n",
       "      <td>1</td>\n",
       "      <td>3</td>\n",
       "      <td>9500</td>\n",
       "      <td>1</td>\n",
       "      <td>1</td>\n",
       "      <td>131.0</td>\n",
       "      <td>1</td>\n",
       "      <td>19</td>\n",
       "      <td>...</td>\n",
       "      <td>0</td>\n",
       "      <td>8</td>\n",
       "      <td>11</td>\n",
       "      <td>7</td>\n",
       "      <td>12.820000</td>\n",
       "      <td>0</td>\n",
       "      <td>11.1</td>\n",
       "      <td>0.6</td>\n",
       "      <td>2.02</td>\n",
       "      <td>Enrolled</td>\n",
       "    </tr>\n",
       "    <tr>\n",
       "      <th>4</th>\n",
       "      <td>4</td>\n",
       "      <td>1</td>\n",
       "      <td>1</td>\n",
       "      <td>2</td>\n",
       "      <td>9500</td>\n",
       "      <td>1</td>\n",
       "      <td>1</td>\n",
       "      <td>132.0</td>\n",
       "      <td>1</td>\n",
       "      <td>19</td>\n",
       "      <td>...</td>\n",
       "      <td>0</td>\n",
       "      <td>7</td>\n",
       "      <td>12</td>\n",
       "      <td>6</td>\n",
       "      <td>12.933333</td>\n",
       "      <td>0</td>\n",
       "      <td>7.6</td>\n",
       "      <td>2.6</td>\n",
       "      <td>0.32</td>\n",
       "      <td>Graduate</td>\n",
       "    </tr>\n",
       "  </tbody>\n",
       "</table>\n",
       "<p>5 rows × 38 columns</p>\n",
       "</div>"
      ],
      "text/plain": [
       "   id  Marital status  Application mode  Application order  Course  \\\n",
       "0   0               1                 1                  1    9238   \n",
       "1   1               1                17                  1    9238   \n",
       "2   2               1                17                  2    9254   \n",
       "3   3               1                 1                  3    9500   \n",
       "4   4               1                 1                  2    9500   \n",
       "\n",
       "   Daytime/evening attendance  Previous qualification  \\\n",
       "0                           1                       1   \n",
       "1                           1                       1   \n",
       "2                           1                       1   \n",
       "3                           1                       1   \n",
       "4                           1                       1   \n",
       "\n",
       "   Previous qualification (grade)  Nacionality  Mother's qualification  ...  \\\n",
       "0                           126.0            1                       1  ...   \n",
       "1                           125.0            1                      19  ...   \n",
       "2                           137.0            1                       3  ...   \n",
       "3                           131.0            1                      19  ...   \n",
       "4                           132.0            1                      19  ...   \n",
       "\n",
       "   Curricular units 2nd sem (credited)  Curricular units 2nd sem (enrolled)  \\\n",
       "0                                    0                                    6   \n",
       "1                                    0                                    6   \n",
       "2                                    0                                    6   \n",
       "3                                    0                                    8   \n",
       "4                                    0                                    7   \n",
       "\n",
       "   Curricular units 2nd sem (evaluations)  \\\n",
       "0                                       7   \n",
       "1                                       9   \n",
       "2                                       0   \n",
       "3                                      11   \n",
       "4                                      12   \n",
       "\n",
       "   Curricular units 2nd sem (approved)  Curricular units 2nd sem (grade)  \\\n",
       "0                                    6                         12.428571   \n",
       "1                                    0                          0.000000   \n",
       "2                                    0                          0.000000   \n",
       "3                                    7                         12.820000   \n",
       "4                                    6                         12.933333   \n",
       "\n",
       "   Curricular units 2nd sem (without evaluations)  Unemployment rate  \\\n",
       "0                                               0               11.1   \n",
       "1                                               0               11.1   \n",
       "2                                               0               16.2   \n",
       "3                                               0               11.1   \n",
       "4                                               0                7.6   \n",
       "\n",
       "   Inflation rate   GDP    Target  \n",
       "0             0.6  2.02  Graduate  \n",
       "1             0.6  2.02   Dropout  \n",
       "2             0.3 -0.92   Dropout  \n",
       "3             0.6  2.02  Enrolled  \n",
       "4             2.6  0.32  Graduate  \n",
       "\n",
       "[5 rows x 38 columns]"
      ]
     },
     "execution_count": 66,
     "metadata": {},
     "output_type": "execute_result"
    }
   ],
   "source": [
    "train_df.head()"
   ]
  },
  {
   "cell_type": "code",
   "execution_count": 67,
   "metadata": {},
   "outputs": [],
   "source": [
    "random_state = 42"
   ]
  },
  {
   "cell_type": "markdown",
   "metadata": {},
   "source": [
    "# Handling Missing Values"
   ]
  },
  {
   "cell_type": "code",
   "execution_count": 68,
   "metadata": {},
   "outputs": [
    {
     "name": "stdout",
     "output_type": "stream",
     "text": [
      "<class 'pandas.core.frame.DataFrame'>\n",
      "RangeIndex: 76518 entries, 0 to 76517\n",
      "Data columns (total 38 columns):\n",
      " #   Column                                          Non-Null Count  Dtype  \n",
      "---  ------                                          --------------  -----  \n",
      " 0   id                                              76518 non-null  int64  \n",
      " 1   Marital status                                  76518 non-null  int64  \n",
      " 2   Application mode                                76518 non-null  int64  \n",
      " 3   Application order                               76518 non-null  int64  \n",
      " 4   Course                                          76518 non-null  int64  \n",
      " 5   Daytime/evening attendance                      76518 non-null  int64  \n",
      " 6   Previous qualification                          76518 non-null  int64  \n",
      " 7   Previous qualification (grade)                  76518 non-null  float64\n",
      " 8   Nacionality                                     76518 non-null  int64  \n",
      " 9   Mother's qualification                          76518 non-null  int64  \n",
      " 10  Father's qualification                          76518 non-null  int64  \n",
      " 11  Mother's occupation                             76518 non-null  int64  \n",
      " 12  Father's occupation                             76518 non-null  int64  \n",
      " 13  Admission grade                                 76518 non-null  float64\n",
      " 14  Displaced                                       76518 non-null  int64  \n",
      " 15  Educational special needs                       76518 non-null  int64  \n",
      " 16  Debtor                                          76518 non-null  int64  \n",
      " 17  Tuition fees up to date                         76518 non-null  int64  \n",
      " 18  Gender                                          76518 non-null  int64  \n",
      " 19  Scholarship holder                              76518 non-null  int64  \n",
      " 20  Age at enrollment                               76518 non-null  int64  \n",
      " 21  International                                   76518 non-null  int64  \n",
      " 22  Curricular units 1st sem (credited)             76518 non-null  int64  \n",
      " 23  Curricular units 1st sem (enrolled)             76518 non-null  int64  \n",
      " 24  Curricular units 1st sem (evaluations)          76518 non-null  int64  \n",
      " 25  Curricular units 1st sem (approved)             76518 non-null  int64  \n",
      " 26  Curricular units 1st sem (grade)                76518 non-null  float64\n",
      " 27  Curricular units 1st sem (without evaluations)  76518 non-null  int64  \n",
      " 28  Curricular units 2nd sem (credited)             76518 non-null  int64  \n",
      " 29  Curricular units 2nd sem (enrolled)             76518 non-null  int64  \n",
      " 30  Curricular units 2nd sem (evaluations)          76518 non-null  int64  \n",
      " 31  Curricular units 2nd sem (approved)             76518 non-null  int64  \n",
      " 32  Curricular units 2nd sem (grade)                76518 non-null  float64\n",
      " 33  Curricular units 2nd sem (without evaluations)  76518 non-null  int64  \n",
      " 34  Unemployment rate                               76518 non-null  float64\n",
      " 35  Inflation rate                                  76518 non-null  float64\n",
      " 36  GDP                                             76518 non-null  float64\n",
      " 37  Target                                          76518 non-null  object \n",
      "dtypes: float64(7), int64(30), object(1)\n",
      "memory usage: 22.2+ MB\n"
     ]
    }
   ],
   "source": [
    "train_df.info()"
   ]
  },
  {
   "cell_type": "markdown",
   "metadata": {},
   "source": [
    "No missing values"
   ]
  },
  {
   "cell_type": "markdown",
   "metadata": {},
   "source": [
    "# Handling Duplicate Values"
   ]
  },
  {
   "cell_type": "code",
   "execution_count": 69,
   "metadata": {},
   "outputs": [
    {
     "data": {
      "text/plain": [
       "np.int64(0)"
      ]
     },
     "execution_count": 69,
     "metadata": {},
     "output_type": "execute_result"
    }
   ],
   "source": [
    "train_df.duplicated().sum()"
   ]
  },
  {
   "cell_type": "markdown",
   "metadata": {},
   "source": [
    "\n",
    "No duplicate values"
   ]
  },
  {
   "cell_type": "markdown",
   "metadata": {},
   "source": [
    "# Looking at column distributions"
   ]
  },
  {
   "cell_type": "code",
   "execution_count": 70,
   "metadata": {},
   "outputs": [],
   "source": [
    "categorical_columns = [\n",
    "    \"Marital status\",\n",
    "    \"Application mode\",\n",
    "    \"Application order\",\n",
    "    \"Course\",\n",
    "    \"Daytime/evening attendance\",\n",
    "    \"Previous qualification\",\n",
    "    \"Nacionality\",\n",
    "    \"Mother's qualification\",\n",
    "    \"Father's qualification\",\n",
    "    \"Mother's occupation\",\n",
    "    \"Father's occupation\",\n",
    "    \"Displaced\",\n",
    "    \"Educational special needs\",\n",
    "    \"Debtor\",\n",
    "    \"Tuition fees up to date\",\n",
    "    \"Gender\",\n",
    "    \"Scholarship holder\",\n",
    "    \"International\",\n",
    "    \"Curricular units 1st sem (credited)\",\n",
    "    \"Curricular units 1st sem (enrolled)\",\n",
    "    \"Curricular units 1st sem (evaluations)\",\n",
    "    \"Curricular units 1st sem (approved)\",\n",
    "    \"Curricular units 1st sem (without evaluations)\",\n",
    "    \"Curricular units 2nd sem (credited)\",\n",
    "    \"Curricular units 2nd sem (enrolled)\",\n",
    "    \"Curricular units 2nd sem (evaluations)\",\n",
    "    \"Curricular units 2nd sem (approved)\",\n",
    "    \"Curricular units 2nd sem (without evaluations)\",\n",
    "]\n",
    "\n",
    "numerical_columns = [\n",
    "    \"Previous qualification (grade)\",\n",
    "    \"Admission grade\",\n",
    "    \"Age at enrollment\",\n",
    "    \"Curricular units 1st sem (grade)\",\n",
    "    \"Curricular units 2nd sem (grade)\",\n",
    "    \"Unemployment rate\",\n",
    "    \"Inflation rate\",\n",
    "    \"GDP\",\n",
    "]"
   ]
  },
  {
   "cell_type": "markdown",
   "metadata": {},
   "source": [
    "## Looking at distributions for numerical columns"
   ]
  },
  {
   "cell_type": "code",
   "execution_count": 71,
   "metadata": {},
   "outputs": [],
   "source": [
    "# for column in numerical_columns:\n",
    "#     print(column)\n",
    "#     # # Calculate the IQR (Interquartile Range)\n",
    "#     # Q1 = train_df[column].quantile(0.25)\n",
    "#     # Q3 = train_df[column].quantile(0.75)\n",
    "#     # IQR = Q3 - Q1\n",
    "\n",
    "#     # # Calculate the bin width using Freedman-Diaconis rule\n",
    "#     # bin_width = 2 * IQR * (len(train_df[column]) ** (-1/3))\n",
    "\n",
    "#     fig, axes = plt.subplots(2, 2, figsize=(16, 6))\n",
    "\n",
    "#     sns.kdeplot(ax=axes[0, 0], x=train_df[column], fill=True)\n",
    "#     axes[0, 0].set_title(f\"PDF: {column}\")\n",
    "\n",
    "#     sns.kdeplot(ax=axes[0, 1], x=train_df[column], hue=train_df[\"Target\"], fill=True)\n",
    "#     axes[0, 1].set_title(f\"PDF: {column} per Target\")\n",
    "\n",
    "#     sns.kdeplot(ax=axes[1, 0], x=train_df[column], fill=True, cumulative=True)\n",
    "#     axes[0, 0].set_title(f\"CDF: {column}\")\n",
    "\n",
    "#     sns.kdeplot(ax=axes[1, 1], x=train_df[column], hue=train_df[\"Target\"], fill=True, cumulative=True)\n",
    "#     axes[1, 1].set_title(f\"CDF: {column} per Target\")\n",
    "\n",
    "#     plt.tight_layout()\n",
    "#     plt.show()"
   ]
  },
  {
   "cell_type": "markdown",
   "metadata": {},
   "source": [
    "## Looking at distribution of categorical columns"
   ]
  },
  {
   "cell_type": "code",
   "execution_count": 72,
   "metadata": {},
   "outputs": [],
   "source": [
    "# for column in categorical_columns:\n",
    "#     print(column)\n",
    "\n",
    "#     # Create a figure with two subplots side by side\n",
    "#     fig, axes = plt.subplots(1, 2, figsize=(16, 6))\n",
    "\n",
    "#     ratios = train_df[column].value_counts(normalize=True)\n",
    "#     sns.barplot(ax=axes[0], x=ratios.index, y=ratios.to_list())\n",
    "#     axes[0].set_title(column)\n",
    "#     axes[0].tick_params(axis=\"x\", labelrotation=90)\n",
    "#     axes[0].set_ylim(0, 1)\n",
    "\n",
    "#     grouped_counts = train_df.groupby(\"Target\")[column].value_counts(normalize=True)\n",
    "#     flattened_df = grouped_counts.reset_index()\n",
    "#     flattened_df.columns = [\"Target\", column, \"Proportion\"]\n",
    "#     sns.barplot(\n",
    "#         x=flattened_df[column], y=flattened_df[\"Proportion\"], hue=flattened_df[\"Target\"]\n",
    "#     )\n",
    "#     axes[1].set_title(f\"{column} per Target\")\n",
    "#     axes[1].tick_params(axis=\"x\", labelrotation=90)\n",
    "#     axes[1].set_ylim(0, 1)\n",
    "\n",
    "#     plt.tight_layout()\n",
    "#     plt.show()"
   ]
  },
  {
   "cell_type": "markdown",
   "metadata": {},
   "source": [
    "# Drop unneeded columns, like id"
   ]
  },
  {
   "cell_type": "code",
   "execution_count": 73,
   "metadata": {},
   "outputs": [],
   "source": [
    "columns_to_drop = [\"id\"]\n",
    "train_df.drop(columns=columns_to_drop, inplace=True)\n",
    "\n",
    "test_df_ids = test_df[\"id\"]\n",
    "test_df.drop(columns=columns_to_drop, inplace=True)"
   ]
  },
  {
   "cell_type": "markdown",
   "metadata": {},
   "source": [
    "# Dimensionality Reduction of PCA for the numerical columns"
   ]
  },
  {
   "cell_type": "code",
   "execution_count": 74,
   "metadata": {},
   "outputs": [
    {
     "data": {
      "text/html": [
       "<div>\n",
       "<style scoped>\n",
       "    .dataframe tbody tr th:only-of-type {\n",
       "        vertical-align: middle;\n",
       "    }\n",
       "\n",
       "    .dataframe tbody tr th {\n",
       "        vertical-align: top;\n",
       "    }\n",
       "\n",
       "    .dataframe thead th {\n",
       "        text-align: right;\n",
       "    }\n",
       "</style>\n",
       "<table border=\"1\" class=\"dataframe\">\n",
       "  <thead>\n",
       "    <tr style=\"text-align: right;\">\n",
       "      <th></th>\n",
       "      <th>PCA1</th>\n",
       "    </tr>\n",
       "  </thead>\n",
       "  <tbody>\n",
       "    <tr>\n",
       "      <th>0</th>\n",
       "      <td>0.988645</td>\n",
       "    </tr>\n",
       "    <tr>\n",
       "      <th>1</th>\n",
       "      <td>-0.772896</td>\n",
       "    </tr>\n",
       "    <tr>\n",
       "      <th>2</th>\n",
       "      <td>-1.457755</td>\n",
       "    </tr>\n",
       "    <tr>\n",
       "      <th>3</th>\n",
       "      <td>1.000003</td>\n",
       "    </tr>\n",
       "    <tr>\n",
       "      <th>4</th>\n",
       "      <td>0.766391</td>\n",
       "    </tr>\n",
       "  </tbody>\n",
       "</table>\n",
       "</div>"
      ],
      "text/plain": [
       "       PCA1\n",
       "0  0.988645\n",
       "1 -0.772896\n",
       "2 -1.457755\n",
       "3  1.000003\n",
       "4  0.766391"
      ]
     },
     "execution_count": 74,
     "metadata": {},
     "output_type": "execute_result"
    }
   ],
   "source": [
    "from sklearn.decomposition import PCA\n",
    "from sklearn.preprocessing import StandardScaler\n",
    "\n",
    "scaler = StandardScaler()\n",
    "# Scale numerical columns\n",
    "train_numerical_scaled_df = scaler.fit_transform(train_df[numerical_columns])\n",
    "test_numerical_scaled_df = scaler.transform(test_df[numerical_columns])\n",
    "\n",
    "# Apply PCA\n",
    "n_components = 2\n",
    "pca_column_names = []\n",
    "# Dynamcially create column names\n",
    "for i in range(1, n_components + 1):\n",
    "    pca_column_names.append(f\"PCA{i}\")\n",
    "\n",
    "pca = PCA(n_components=n_components, random_state=random_state)\n",
    "train_pca = pca.fit_transform(train_numerical_scaled_df)\n",
    "test_pca = pca.transform(test_numerical_scaled_df)\n",
    "\n",
    "train_pca_df = pd.DataFrame(data=train_pca, columns=pca_column_names)\n",
    "test_pca_df = pd.DataFrame(data=test_pca, columns=pca_column_names)\n",
    "\n",
    "# Drop numerical columns\n",
    "train_df.drop(columns=numerical_columns, inplace=True)\n",
    "test_df.drop(columns=numerical_columns, inplace=True)\n",
    "\n",
    "# Concatenate PCA columns\n",
    "train_df = pd.concat([train_df, train_pca_df], axis=1)\n",
    "test_df = pd.concat([test_df, test_pca_df], axis=1)\n",
    "\n",
    "train_pca_df.head()"
   ]
  },
  {
   "cell_type": "markdown",
   "metadata": {},
   "source": [
    "# Handling class imbalance"
   ]
  },
  {
   "cell_type": "code",
   "execution_count": 75,
   "metadata": {},
   "outputs": [
    {
     "data": {
      "text/plain": [
       "Target\n",
       "Graduate    0.474163\n",
       "Dropout     0.330589\n",
       "Enrolled    0.195248\n",
       "Name: proportion, dtype: float64"
      ]
     },
     "execution_count": 75,
     "metadata": {},
     "output_type": "execute_result"
    }
   ],
   "source": [
    "normalized_proportions = train_df[\"Target\"].value_counts(normalize=True)\n",
    "normalized_proportions"
   ]
  },
  {
   "cell_type": "markdown",
   "metadata": {},
   "source": [
    "There is imbalance"
   ]
  },
  {
   "cell_type": "code",
   "execution_count": 76,
   "metadata": {},
   "outputs": [],
   "source": [
    "# Define Pipeline\n",
    "from imblearn.over_sampling import SMOTE\n",
    "from imblearn.pipeline import Pipeline as ImbPipeline\n",
    "from sklearn.ensemble import RandomForestClassifier\n",
    "\n",
    "\n",
    "over = SMOTE(sampling_strategy=\"auto\", random_state=random_state)\n",
    "# n_jobs=-1 means more than one processor can be used\n",
    "model = RandomForestClassifier(random_state=random_state, n_jobs=-1)\n",
    "\n",
    "pipeline = ImbPipeline(steps=[(\"over\", over), (\"model\", model)])\n",
    "\n",
    "X = train_df.drop(columns=\"Target\")\n",
    "y = train_df[\"Target\"]"
   ]
  },
  {
   "cell_type": "code",
   "execution_count": 77,
   "metadata": {},
   "outputs": [
    {
     "name": "stdout",
     "output_type": "stream",
     "text": [
      "Fitting 5 folds for each of 24 candidates, totalling 120 fits\n",
      "Best parameters found:  {'model__criterion': 'entropy', 'model__max_depth': 10, 'model__max_features': 0.5, 'model__n_estimators': 5}\n",
      "Best accuracy:  0.8094226798150499\n",
      "Test accuracy:  0.8088734971249346\n"
     ]
    }
   ],
   "source": [
    "from sklearn.model_selection import GridSearchCV, train_test_split\n",
    "import datetime\n",
    "\n",
    "param_grid = {\n",
    "    \"model__n_estimators\": [5],\n",
    "    \"model__criterion\": [\"gini\", \"entropy\"],\n",
    "    \"model__max_depth\": [5, 7, 10],\n",
    "    \"model__max_features\": [None, \"sqrt\", \"log2\", 0.5],\n",
    "    # \"model__bootstrap\": [True, False],  # Whether bootstrap samples are used when building trees\n",
    "    # \"model__min_samples_split\": [2, 5, 10],  # Minimum number of samples required to split an internal node\n",
    "    # \"model__min_samples_leaf\": [1, 2, 4],  # Minimum number of samples required to be at a leaf node\n",
    "    # \"model__min_weight_fraction_leaf\": [0.0, 0.1],  # Minimum weighted fraction of the sum total of weights required to be at a leaf node\n",
    "    # \"model__max_leaf_nodes\": [None, 10, 20, 30],  # Maximum number of leaf nodes in the tree\n",
    "    # \"model__min_impurity_decrease\": [0.0, 0.1, 0.2],  # A node will be split if this split induces a decrease of the impurity greater than or equal to this value\n",
    "    # \"model__class_weight\": [None, \"balanced\"],  # Weights associated with classes\n",
    "}\n",
    "\n",
    "grid_search = GridSearchCV(\n",
    "    estimator=pipeline, param_grid=param_grid, scoring=\"accuracy\", cv=5, verbose=True\n",
    ")\n",
    "\n",
    "\n",
    "X = train_df.drop(columns=\"Target\")\n",
    "y = train_df[\"Target\"]\n",
    "\n",
    "X_train, X_val, y_train, y_val = train_test_split(X, y, test_size=0.2, random_state=42)\n",
    "\n",
    "grid_search.fit(X_train, y_train)\n",
    "\n",
    "# Print the best parameters and best score\n",
    "print(\"Best parameters found: \", grid_search.best_params_)\n",
    "print(\"Best accuracy: \", grid_search.best_score_)\n",
    "\n",
    "\n",
    "# X_test = test_df.drop(columns=\"Target\")\n",
    "# y_test = test_df[\"Target\"]\n",
    "\n",
    "# Evaluate on the test set\n",
    "best_model = grid_search.best_estimator_\n",
    "test_accuracy = best_model.score(X_val, y_val)\n",
    "print(\"Test accuracy: \", test_accuracy)\n",
    "\n",
    "test_predictions = best_model.predict(test_df)\n",
    "\n",
    "prediction_df = pd.DataFrame({\"id\": test_df_ids, \"Target\": test_predictions})\n",
    "\n",
    "# Get the current UTC datetime\n",
    "utc_now = datetime.datetime.now(datetime.timezone.utc)\n",
    "\n",
    "# Format the datetime into a string\n",
    "utc_string = utc_now.strftime(\"%Y-%m-%dT%H:%M:%S\")\n",
    "\n",
    "# Save the DataFrame to a CSV file\n",
    "prediction_df.to_csv(f\"test_predictions_{utc_string}.csv\", index=False)\n",
    "\n",
    "# # Print the test accuracy\n",
    "# test_accuracy = accuracy_score(y_test, test_predictions)\n",
    "# print(\"Test accuracy: \", test_accuracy)"
   ]
  }
 ],
 "metadata": {
  "kernelspec": {
   "display_name": "base1",
   "language": "python",
   "name": "python3"
  },
  "language_info": {
   "codemirror_mode": {
    "name": "ipython",
    "version": 3
   },
   "file_extension": ".py",
   "mimetype": "text/x-python",
   "name": "python",
   "nbconvert_exporter": "python",
   "pygments_lexer": "ipython3",
   "version": "3.10.14"
  }
 },
 "nbformat": 4,
 "nbformat_minor": 2
}
